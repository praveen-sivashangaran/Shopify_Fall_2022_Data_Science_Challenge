{
 "cells": [
  {
   "cell_type": "markdown",
   "id": "3b2a5aa2",
   "metadata": {},
   "source": [
    "### Shopify Fall 2022 Data Science Intern Challenge \n",
    "#### Name: Praveen Sivashangaran "
   ]
  },
  {
   "cell_type": "code",
   "execution_count": 1,
   "id": "63618a76",
   "metadata": {},
   "outputs": [],
   "source": [
    "import numpy as np\n",
    "import pandas as pd \n",
    "import matplotlib.pyplot as plt\n",
    "import seaborn as sns"
   ]
  },
  {
   "cell_type": "markdown",
   "id": "cacac309",
   "metadata": {},
   "source": [
    "### Read in the data"
   ]
  },
  {
   "cell_type": "code",
   "execution_count": 2,
   "id": "e24138bb",
   "metadata": {},
   "outputs": [],
   "source": [
    "df_init = pd.read_csv(\"2019 Winter Data Science Intern Challenge Data Set - Sheet1.csv\")"
   ]
  },
  {
   "cell_type": "markdown",
   "id": "ad2fc0bd",
   "metadata": {},
   "source": [
    "### Exploratory Data Analysis"
   ]
  },
  {
   "cell_type": "markdown",
   "id": "68ceb532",
   "metadata": {},
   "source": [
    "On Shopify, we have exactly 100 sneaker shops, and each of these shops sells only one model of shoe. We want to do some analysis of the average order value (AOV). When we look at orders data over a 30 day window, we naively calculate an AOV of $3145.13. Given that we know these shops are selling sneakers, a relatively affordable item, something seems wrong with our analysis. \n"
   ]
  },
  {
   "cell_type": "code",
   "execution_count": 3,
   "id": "8b0288a6",
   "metadata": {},
   "outputs": [
    {
     "name": "stdout",
     "output_type": "stream",
     "text": [
      "<class 'pandas.core.frame.DataFrame'>\n",
      "RangeIndex: 5000 entries, 0 to 4999\n",
      "Data columns (total 7 columns):\n",
      " #   Column          Non-Null Count  Dtype \n",
      "---  ------          --------------  ----- \n",
      " 0   order_id        5000 non-null   int64 \n",
      " 1   shop_id         5000 non-null   int64 \n",
      " 2   user_id         5000 non-null   int64 \n",
      " 3   order_amount    5000 non-null   int64 \n",
      " 4   total_items     5000 non-null   int64 \n",
      " 5   payment_method  5000 non-null   object\n",
      " 6   created_at      5000 non-null   object\n",
      "dtypes: int64(5), object(2)\n",
      "memory usage: 273.6+ KB\n"
     ]
    }
   ],
   "source": [
    "df_init.info()\n",
    "# No missing data, 5000 entries, 7 columns "
   ]
  },
  {
   "cell_type": "code",
   "execution_count": 4,
   "id": "860d736e",
   "metadata": {},
   "outputs": [
    {
     "data": {
      "text/html": [
       "<div>\n",
       "<style scoped>\n",
       "    .dataframe tbody tr th:only-of-type {\n",
       "        vertical-align: middle;\n",
       "    }\n",
       "\n",
       "    .dataframe tbody tr th {\n",
       "        vertical-align: top;\n",
       "    }\n",
       "\n",
       "    .dataframe thead th {\n",
       "        text-align: right;\n",
       "    }\n",
       "</style>\n",
       "<table border=\"1\" class=\"dataframe\">\n",
       "  <thead>\n",
       "    <tr style=\"text-align: right;\">\n",
       "      <th></th>\n",
       "      <th>order_id</th>\n",
       "      <th>shop_id</th>\n",
       "      <th>user_id</th>\n",
       "      <th>order_amount</th>\n",
       "      <th>total_items</th>\n",
       "      <th>payment_method</th>\n",
       "      <th>created_at</th>\n",
       "    </tr>\n",
       "  </thead>\n",
       "  <tbody>\n",
       "    <tr>\n",
       "      <th>0</th>\n",
       "      <td>1</td>\n",
       "      <td>53</td>\n",
       "      <td>746</td>\n",
       "      <td>224</td>\n",
       "      <td>2</td>\n",
       "      <td>cash</td>\n",
       "      <td>2017-03-13 12:36:56</td>\n",
       "    </tr>\n",
       "    <tr>\n",
       "      <th>1</th>\n",
       "      <td>2</td>\n",
       "      <td>92</td>\n",
       "      <td>925</td>\n",
       "      <td>90</td>\n",
       "      <td>1</td>\n",
       "      <td>cash</td>\n",
       "      <td>2017-03-03 17:38:52</td>\n",
       "    </tr>\n",
       "    <tr>\n",
       "      <th>2</th>\n",
       "      <td>3</td>\n",
       "      <td>44</td>\n",
       "      <td>861</td>\n",
       "      <td>144</td>\n",
       "      <td>1</td>\n",
       "      <td>cash</td>\n",
       "      <td>2017-03-14 4:23:56</td>\n",
       "    </tr>\n",
       "  </tbody>\n",
       "</table>\n",
       "</div>"
      ],
      "text/plain": [
       "   order_id  shop_id  user_id  order_amount  total_items payment_method  \\\n",
       "0         1       53      746           224            2           cash   \n",
       "1         2       92      925            90            1           cash   \n",
       "2         3       44      861           144            1           cash   \n",
       "\n",
       "            created_at  \n",
       "0  2017-03-13 12:36:56  \n",
       "1  2017-03-03 17:38:52  \n",
       "2   2017-03-14 4:23:56  "
      ]
     },
     "execution_count": 4,
     "metadata": {},
     "output_type": "execute_result"
    }
   ],
   "source": [
    "df_init.head(3)"
   ]
  },
  {
   "cell_type": "code",
   "execution_count": 5,
   "id": "eb6e5f5d",
   "metadata": {},
   "outputs": [],
   "source": [
    "# Convert string to datetime object\n",
    "df_init['created_at'] = pd.to_datetime(df_init['created_at'])"
   ]
  },
  {
   "cell_type": "code",
   "execution_count": 6,
   "id": "cf7f5e91",
   "metadata": {},
   "outputs": [
    {
     "name": "stdout",
     "output_type": "stream",
     "text": [
      "Number of sneaker shops: 100\n",
      "Median Order value: $284.0\n",
      "Average Order value (AOV): $3145.13\n",
      "Skewness of order_amount feature: 16.68\n",
      "Timespan of dataset in days: 29\n"
     ]
    }
   ],
   "source": [
    "print(f\"Number of sneaker shops: {df_init['shop_id'].nunique()}\")\n",
    "print(f\"Median Order value: ${df_init['order_amount'].median()}\")\n",
    "print(f\"Average Order value (AOV): ${round(df_init['order_amount'].mean(),2)}\")\n",
    "print(f\"Skewness of order_amount feature: {round(df_init['order_amount'].skew(),2)}\")\n",
    "print(f\"Timespan of dataset in days: {(df_init['created_at'].max() - df_init['created_at'].min()).days}\")"
   ]
  },
  {
   "cell_type": "markdown",
   "id": "9311f68d",
   "metadata": {},
   "source": [
    "**Inference**: \n",
    "- Seeing the significant difference between the median and the mean of the order_amount feature, it is clear that the order_amount data is skewed. \n",
    "- After computing the skewness of the order_amount feature, it is clear that the order_amount feature is heavily right skewed. \n",
    "- The mean is senstive to extreme values or outliers, and the mean is closer to the tail in a skewed distribution, which explains the significantly high calculated AOV. \n",
    "- Consequently, the median is better suited for skewed distributions as it is much more robust."
   ]
  },
  {
   "cell_type": "code",
   "execution_count": 7,
   "id": "7b40696f",
   "metadata": {},
   "outputs": [
    {
     "data": {
      "image/png": "[encoded data removed]",
      "text/plain": [
       "<Figure size 432x288 with 1 Axes>"
      ]
     },
     "metadata": {},
     "output_type": "display_data"
    }
   ],
   "source": [
    "sns.set_theme(style=\"whitegrid\")\n",
    "ax = sns.boxplot(x=df_init['order_amount'])\n",
    "ax.set_title(\"Box Plot of the Order Value\")\n",
    "ax.set_xlabel(\"Order Value in dollars\")\n",
    "plt.show()"
   ]
  },
  {
   "cell_type": "code",
   "execution_count": 8,
   "id": "5abde920",
   "metadata": {},
   "outputs": [
    {
     "data": {
      "image/png": "[encoded data removed]",
      "text/plain": [
       "<Figure size 432x288 with 1 Axes>"
      ]
     },
     "metadata": {},
     "output_type": "display_data"
    }
   ],
   "source": [
    "ax = sns.boxplot(x=np.log(df_init['order_amount']))\n",
    "ax.set_title(\"Box Plot of the Order Value (log-transformed)\")\n",
    "ax.set_xlabel(\"Order Value in dollars\")\n",
    "plt.show()"
   ]
  },
  {
   "cell_type": "markdown",
   "id": "86363fd0",
   "metadata": {},
   "source": [
    "**Inference**: It is evident that the mean is being skewed by the outliers highlighted on the above boxplot. However, outliers should be investigated first before removal, as removal of outliers means losing information. "
   ]
  },
  {
   "cell_type": "markdown",
   "id": "608bbb56",
   "metadata": {},
   "source": [
    "### a. Think about what could be going wrong with our calculation. Think about a better way to evaluate this data. "
   ]
  },
  {
   "cell_type": "markdown",
   "id": "4eaae5e7",
   "metadata": {},
   "source": [
    "It has been established that outliers are skewing the Average Order Value (AOV). We will now investigate these outliers"
   ]
  },
  {
   "cell_type": "markdown",
   "id": "d9811ef8",
   "metadata": {},
   "source": [
    "#### 1. Explore the price per pair of sneakers across the 100 stores"
   ]
  },
  {
   "cell_type": "markdown",
   "id": "98851429",
   "metadata": {},
   "source": [
    "First, let's introduce a new feature, titled \"price_per_item\", which is the order_amount divided by the total_items, to get an understanding of the variation in sneaker retail price by Shop"
   ]
  },
  {
   "cell_type": "code",
   "execution_count": 9,
   "id": "3fe14fcc",
   "metadata": {},
   "outputs": [],
   "source": [
    "# Create copy of dataset for investigation\n",
    "df = df_init.copy()"
   ]
  },
  {
   "cell_type": "code",
   "execution_count": 10,
   "id": "b363ee02",
   "metadata": {},
   "outputs": [],
   "source": [
    "# Create new feature; price per pair of sneakers for a given shop \n",
    "df['price_per_item'] = df['order_amount'] / df['total_items']"
   ]
  },
  {
   "cell_type": "code",
   "execution_count": 11,
   "id": "17f09643",
   "metadata": {},
   "outputs": [
    {
     "data": {
      "image/png": "[encoded data removed]",
      "text/plain": [
       "<Figure size 432x288 with 1 Axes>"
      ]
     },
     "metadata": {},
     "output_type": "display_data"
    }
   ],
   "source": [
    "ax = sns.boxplot(x=df['price_per_item'])\n",
    "ax.set_title(\"Box Plot of the price_per_item feature\")\n",
    "ax.set_xlabel(\"price_per_item in dollars\")\n",
    "plt.show()"
   ]
  },
  {
   "cell_type": "markdown",
   "id": "2435c90f",
   "metadata": {},
   "source": [
    "**Inference**: There is a clear outlier when looking at the price_per_item for each of the shops. Note that price_per_item translates to the price at which each shop is selling a pair of sneakers for. Logically, \\\\$25000+ is an unreasonable price to sell a pair of sneakers for."
   ]
  },
  {
   "cell_type": "code",
   "execution_count": 12,
   "id": "47fa0242",
   "metadata": {},
   "outputs": [
    {
     "data": {
      "text/plain": [
       "count     5000.000000\n",
       "mean       387.742800\n",
       "std       2441.963725\n",
       "min         90.000000\n",
       "25%        133.000000\n",
       "50%        153.000000\n",
       "75%        169.000000\n",
       "max      25725.000000\n",
       "Name: price_per_item, dtype: float64"
      ]
     },
     "execution_count": 12,
     "metadata": {},
     "output_type": "execute_result"
    }
   ],
   "source": [
    "df['price_per_item'].describe()"
   ]
  },
  {
   "cell_type": "code",
   "execution_count": 13,
   "id": "d5ebe614",
   "metadata": {},
   "outputs": [
    {
     "name": "stdout",
     "output_type": "stream",
     "text": [
      "Average price for a pair of sneakers: $387.74\n"
     ]
    }
   ],
   "source": [
    "print(f\"Average price for a pair of sneakers: ${round(df['price_per_item'].mean(),2)}\")"
   ]
  },
  {
   "cell_type": "code",
   "execution_count": 14,
   "id": "bd750d6e",
   "metadata": {},
   "outputs": [
    {
     "data": {
      "text/html": [
       "<div>\n",
       "<style scoped>\n",
       "    .dataframe tbody tr th:only-of-type {\n",
       "        vertical-align: middle;\n",
       "    }\n",
       "\n",
       "    .dataframe tbody tr th {\n",
       "        vertical-align: top;\n",
       "    }\n",
       "\n",
       "    .dataframe thead th {\n",
       "        text-align: right;\n",
       "    }\n",
       "</style>\n",
       "<table border=\"1\" class=\"dataframe\">\n",
       "  <thead>\n",
       "    <tr style=\"text-align: right;\">\n",
       "      <th></th>\n",
       "      <th>shop_id</th>\n",
       "      <th>price_per_item</th>\n",
       "    </tr>\n",
       "  </thead>\n",
       "  <tbody>\n",
       "    <tr>\n",
       "      <th>77</th>\n",
       "      <td>78</td>\n",
       "      <td>25725.0</td>\n",
       "    </tr>\n",
       "    <tr>\n",
       "      <th>41</th>\n",
       "      <td>42</td>\n",
       "      <td>352.0</td>\n",
       "    </tr>\n",
       "    <tr>\n",
       "      <th>11</th>\n",
       "      <td>12</td>\n",
       "      <td>201.0</td>\n",
       "    </tr>\n",
       "    <tr>\n",
       "      <th>88</th>\n",
       "      <td>89</td>\n",
       "      <td>196.0</td>\n",
       "    </tr>\n",
       "    <tr>\n",
       "      <th>98</th>\n",
       "      <td>99</td>\n",
       "      <td>195.0</td>\n",
       "    </tr>\n",
       "  </tbody>\n",
       "</table>\n",
       "</div>"
      ],
      "text/plain": [
       "    shop_id  price_per_item\n",
       "77       78         25725.0\n",
       "41       42           352.0\n",
       "11       12           201.0\n",
       "88       89           196.0\n",
       "98       99           195.0"
      ]
     },
     "execution_count": 14,
     "metadata": {},
     "output_type": "execute_result"
    }
   ],
   "source": [
    "df.groupby('shop_id').mean()['price_per_item'].reset_index().sort_values(by='price_per_item',ascending=False)[:5]"
   ]
  },
  {
   "cell_type": "code",
   "execution_count": 15,
   "id": "e0389699",
   "metadata": {},
   "outputs": [
    {
     "name": "stdout",
     "output_type": "stream",
     "text": [
      "Number of entries in dataset by Shop 78: 46\n"
     ]
    }
   ],
   "source": [
    "print(f\"Number of entries in dataset by Shop 78: {df.groupby('shop_id').count().loc[78]['price_per_item']}\")"
   ]
  },
  {
   "cell_type": "markdown",
   "id": "810feb99",
   "metadata": {},
   "source": [
    "**Observation**: Shop 78 is either extremely overpricing the pair of sneakers or there seems to some error on their end when entering their sneaker transaction information. It is unreasonable for a shop to on average sell a pair of sneakers for $25725 over 46 recorded transactions. "
   ]
  },
  {
   "cell_type": "markdown",
   "id": "351feceb",
   "metadata": {},
   "source": [
    "**Action**: We will remove Shop 78's transactions from the dataset"
   ]
  },
  {
   "cell_type": "code",
   "execution_count": 16,
   "id": "ab7d69b3",
   "metadata": {},
   "outputs": [],
   "source": [
    "df = df[df['shop_id'] != 78]"
   ]
  },
  {
   "cell_type": "code",
   "execution_count": 17,
   "id": "b7cafc4a",
   "metadata": {},
   "outputs": [
    {
     "name": "stdout",
     "output_type": "stream",
     "text": [
      "Average price for a pair of sneakers before removing transactions by Shop 78: $387.74\n",
      "Average price for a pair of sneakers after removing transactions by Shop 78: $152.48\n"
     ]
    }
   ],
   "source": [
    "print(f\"Average price for a pair of sneakers before removing transactions by Shop 78: ${387.74}\")\n",
    "print(f\"Average price for a pair of sneakers after removing transactions by Shop 78: ${round(df['price_per_item'].mean(),2)}\")"
   ]
  },
  {
   "cell_type": "code",
   "execution_count": 18,
   "id": "603a3f65",
   "metadata": {},
   "outputs": [
    {
     "data": {
      "text/plain": [
       "count      4954.000000\n",
       "mean       2717.367784\n",
       "std       41155.996469\n",
       "min          90.000000\n",
       "25%         163.000000\n",
       "50%         284.000000\n",
       "75%         390.000000\n",
       "max      704000.000000\n",
       "Name: order_amount, dtype: float64"
      ]
     },
     "execution_count": 18,
     "metadata": {},
     "output_type": "execute_result"
    }
   ],
   "source": [
    "df['order_amount'].describe()"
   ]
  },
  {
   "cell_type": "markdown",
   "id": "f156d101",
   "metadata": {},
   "source": [
    "Even after removing the transactions of Shop 78 from the dataset, the overall AOV is still relatively high at \\\\$2717.37. Now that we have established that the average price per pair of sneakers is $152.48 across all the shops excluding shop 78, we will now explore the number of sneakers sold per order. There seems to be outliers or extreme bulk orders that are significantly increasing the AOV."
   ]
  },
  {
   "cell_type": "markdown",
   "id": "092aa511",
   "metadata": {},
   "source": [
    "#### 2. Explore the number of sneakers sold per order across the 100 stores"
   ]
  },
  {
   "cell_type": "code",
   "execution_count": 19,
   "id": "29fbb751",
   "metadata": {},
   "outputs": [
    {
     "data": {
      "text/plain": [
       "2       1816\n",
       "1       1811\n",
       "3        932\n",
       "4        292\n",
       "5         77\n",
       "2000      17\n",
       "6          8\n",
       "8          1\n",
       "Name: total_items, dtype: int64"
      ]
     },
     "execution_count": 19,
     "metadata": {},
     "output_type": "execute_result"
    }
   ],
   "source": [
    "df['total_items'].value_counts().sort_values(ascending=False)"
   ]
  },
  {
   "cell_type": "code",
   "execution_count": 20,
   "id": "ca6e799e",
   "metadata": {},
   "outputs": [
    {
     "data": {
      "text/plain": [
       "count    4954.000000\n",
       "mean        8.851029\n",
       "std       116.857286\n",
       "min         1.000000\n",
       "25%         1.000000\n",
       "50%         2.000000\n",
       "75%         3.000000\n",
       "max      2000.000000\n",
       "Name: total_items, dtype: float64"
      ]
     },
     "execution_count": 20,
     "metadata": {},
     "output_type": "execute_result"
    }
   ],
   "source": [
    "df['total_items'].describe()"
   ]
  },
  {
   "cell_type": "markdown",
   "id": "c54cfd7a",
   "metadata": {},
   "source": [
    "**Observation**: There are 17 transaction records or orders where 2000 pairs of sneakers have been sold. Clearly, this is swaying the AOV."
   ]
  },
  {
   "cell_type": "code",
   "execution_count": 21,
   "id": "41bc0e92",
   "metadata": {},
   "outputs": [
    {
     "data": {
      "text/plain": [
       "array([42], dtype=int64)"
      ]
     },
     "execution_count": 21,
     "metadata": {},
     "output_type": "execute_result"
    }
   ],
   "source": [
    "df[df['total_items'] == 2000]['shop_id'].unique()"
   ]
  },
  {
   "cell_type": "markdown",
   "id": "0ed38f7d",
   "metadata": {},
   "source": [
    "It appears that Shop 42 is the only shop responsible for the 17 orders of 2000 sneakers each."
   ]
  },
  {
   "cell_type": "code",
   "execution_count": 22,
   "id": "6f3b612f",
   "metadata": {},
   "outputs": [
    {
     "data": {
      "text/plain": [
       "array([607], dtype=int64)"
      ]
     },
     "execution_count": 22,
     "metadata": {},
     "output_type": "execute_result"
    }
   ],
   "source": [
    "df[df['total_items'] == 2000]['user_id'].unique()"
   ]
  },
  {
   "cell_type": "markdown",
   "id": "f4190d67",
   "metadata": {},
   "source": [
    "It appears that User 607 is the only user responsible for the 17 orders of 2000 sneakers each."
   ]
  },
  {
   "cell_type": "code",
   "execution_count": 23,
   "id": "a87ec80d",
   "metadata": {},
   "outputs": [
    {
     "name": "stdout",
     "output_type": "stream",
     "text": [
      "Number of entries in dataset by Shop 42: 51\n"
     ]
    }
   ],
   "source": [
    "print(f\"Number of entries in dataset by Shop 42: {df.groupby('shop_id').count().loc[42]['price_per_item']}\")"
   ]
  },
  {
   "cell_type": "markdown",
   "id": "58427113",
   "metadata": {},
   "source": [
    "Shop 42 has a total of 51 orders in the dataset, of which 17 are made by User 607, and are all orders of 2000 sneakers. User 607 maybe a bulk distributor which is why each of their orders are large in quantity. We should look at the remaining 34 orders at Shop 42 to understand if there are any insights we can derive. "
   ]
  },
  {
   "cell_type": "code",
   "execution_count": 24,
   "id": "b486914a",
   "metadata": {},
   "outputs": [
    {
     "data": {
      "text/html": [
       "<div>\n",
       "<style scoped>\n",
       "    .dataframe tbody tr th:only-of-type {\n",
       "        vertical-align: middle;\n",
       "    }\n",
       "\n",
       "    .dataframe tbody tr th {\n",
       "        vertical-align: top;\n",
       "    }\n",
       "\n",
       "    .dataframe thead th {\n",
       "        text-align: right;\n",
       "    }\n",
       "</style>\n",
       "<table border=\"1\" class=\"dataframe\">\n",
       "  <thead>\n",
       "    <tr style=\"text-align: right;\">\n",
       "      <th></th>\n",
       "      <th>order_amount</th>\n",
       "      <th>total_items</th>\n",
       "      <th>price_per_item</th>\n",
       "    </tr>\n",
       "  </thead>\n",
       "  <tbody>\n",
       "    <tr>\n",
       "      <th>count</th>\n",
       "      <td>34.000000</td>\n",
       "      <td>34.000000</td>\n",
       "      <td>34.0</td>\n",
       "    </tr>\n",
       "    <tr>\n",
       "      <th>mean</th>\n",
       "      <td>652.235294</td>\n",
       "      <td>1.852941</td>\n",
       "      <td>352.0</td>\n",
       "    </tr>\n",
       "    <tr>\n",
       "      <th>std</th>\n",
       "      <td>358.681682</td>\n",
       "      <td>1.018982</td>\n",
       "      <td>0.0</td>\n",
       "    </tr>\n",
       "    <tr>\n",
       "      <th>min</th>\n",
       "      <td>352.000000</td>\n",
       "      <td>1.000000</td>\n",
       "      <td>352.0</td>\n",
       "    </tr>\n",
       "    <tr>\n",
       "      <th>25%</th>\n",
       "      <td>352.000000</td>\n",
       "      <td>1.000000</td>\n",
       "      <td>352.0</td>\n",
       "    </tr>\n",
       "    <tr>\n",
       "      <th>50%</th>\n",
       "      <td>704.000000</td>\n",
       "      <td>2.000000</td>\n",
       "      <td>352.0</td>\n",
       "    </tr>\n",
       "    <tr>\n",
       "      <th>75%</th>\n",
       "      <td>704.000000</td>\n",
       "      <td>2.000000</td>\n",
       "      <td>352.0</td>\n",
       "    </tr>\n",
       "    <tr>\n",
       "      <th>max</th>\n",
       "      <td>1760.000000</td>\n",
       "      <td>5.000000</td>\n",
       "      <td>352.0</td>\n",
       "    </tr>\n",
       "  </tbody>\n",
       "</table>\n",
       "</div>"
      ],
      "text/plain": [
       "       order_amount  total_items  price_per_item\n",
       "count     34.000000    34.000000            34.0\n",
       "mean     652.235294     1.852941           352.0\n",
       "std      358.681682     1.018982             0.0\n",
       "min      352.000000     1.000000           352.0\n",
       "25%      352.000000     1.000000           352.0\n",
       "50%      704.000000     2.000000           352.0\n",
       "75%      704.000000     2.000000           352.0\n",
       "max     1760.000000     5.000000           352.0"
      ]
     },
     "execution_count": 24,
     "metadata": {},
     "output_type": "execute_result"
    }
   ],
   "source": [
    "df[(df['shop_id'] == 42) & (df['user_id'] != 607)][['order_amount','total_items','price_per_item']].describe()"
   ]
  },
  {
   "cell_type": "markdown",
   "id": "0cfabf28",
   "metadata": {},
   "source": [
    "**Obersvation**: Of the remaining 34 orders at Shop 42, the average order value is \\\\$652.24 and the average number of items per order is 1.85. Consistently, the price per item is \\\\$352 across all 34 orders. "
   ]
  },
  {
   "cell_type": "markdown",
   "id": "7909e555",
   "metadata": {},
   "source": [
    "**Action**: We can either remove only orders by User 607 or we can remove all orders at Shop 42. In order to determine which of the two actions to take, further investigation is warranted. "
   ]
  },
  {
   "cell_type": "code",
   "execution_count": 25,
   "id": "052b4260",
   "metadata": {},
   "outputs": [
    {
     "data": {
      "text/plain": [
       "count    4954.000000\n",
       "mean      152.475575\n",
       "std        31.260218\n",
       "min        90.000000\n",
       "25%       132.000000\n",
       "50%       153.000000\n",
       "75%       168.000000\n",
       "max       352.000000\n",
       "Name: price_per_item, dtype: float64"
      ]
     },
     "execution_count": 25,
     "metadata": {},
     "output_type": "execute_result"
    }
   ],
   "source": [
    "df['price_per_item'].describe()"
   ]
  },
  {
   "cell_type": "markdown",
   "id": "92747bc6",
   "metadata": {},
   "source": [
    "The Interquartile range can be used to calculate outlier fences. Data points outside the outer fences are considered extreme outliers and data points in between the lower and upper fences are considered mild outliers"
   ]
  },
  {
   "cell_type": "code",
   "execution_count": 26,
   "id": "024f2ca9",
   "metadata": {},
   "outputs": [],
   "source": [
    "IQR = df['price_per_item'].describe()['75%'] - df['price_per_item'].describe()['25%']"
   ]
  },
  {
   "cell_type": "code",
   "execution_count": 27,
   "id": "97f3a324",
   "metadata": {},
   "outputs": [],
   "source": [
    "lower_inner = df['price_per_item'].describe()['25%'] - (1.5*IQR)\n",
    "lower_outer = df['price_per_item'].describe()['25%'] - (3*IQR)\n",
    "upper_inner = df['price_per_item'].describe()['75%'] + (1.5*IQR)\n",
    "upper_outer = df['price_per_item'].describe()['75%'] + (3*IQR)"
   ]
  },
  {
   "cell_type": "code",
   "execution_count": 28,
   "id": "3a523634",
   "metadata": {},
   "outputs": [
    {
     "name": "stdout",
     "output_type": "stream",
     "text": [
      "Upper Outer Fence: 276.0\n",
      "Lower Outer Fence: 24.0\n"
     ]
    }
   ],
   "source": [
    "print(f\"Upper Outer Fence: {upper_outer}\")\n",
    "print(f\"Lower Outer Fence: {lower_outer}\")"
   ]
  },
  {
   "cell_type": "markdown",
   "id": "54df9fb4",
   "metadata": {},
   "source": [
    "Transactions where the price_per_item is greater than 276 or lower than 24 can be considered extreme outliers according to the aforementioned methodology."
   ]
  },
  {
   "cell_type": "code",
   "execution_count": 29,
   "id": "ded87a8b",
   "metadata": {},
   "outputs": [
    {
     "data": {
      "text/plain": [
       "array([352., 201., 196., 195., 193., 190., 187., 184., 181., 178., 177.,\n",
       "       176., 173., 172., 171., 169., 168., 166., 165., 164., 163., 162.,\n",
       "       161., 160., 158., 156., 155., 154., 153., 149., 148., 147., 146.,\n",
       "       145., 144., 142., 140., 138., 136., 134., 133., 132., 131., 130.,\n",
       "       129., 128., 127., 122., 118., 117., 116., 114., 112., 111., 101.,\n",
       "        94.,  90.])"
      ]
     },
     "execution_count": 29,
     "metadata": {},
     "output_type": "execute_result"
    }
   ],
   "source": [
    "df['price_per_item'].sort_values(ascending=False).unique()\n",
    "# One unique price_per_item value (352) fits the extreme outlier critera and from previous \n",
    "# analysis we know it corresponds to Shop 42"
   ]
  },
  {
   "cell_type": "markdown",
   "id": "b64b757c",
   "metadata": {},
   "source": [
    "From previous analysis, we know that the price_per_item at Shop 42 is 352, meaning it can be considered as an extreme outlier. Therefore, all transactions involving Shop 42 will be dropped. "
   ]
  },
  {
   "cell_type": "code",
   "execution_count": 30,
   "id": "e32a2ce3",
   "metadata": {},
   "outputs": [],
   "source": [
    "df = df[df['shop_id'] != 42]"
   ]
  },
  {
   "cell_type": "markdown",
   "id": "c9adaf4d",
   "metadata": {},
   "source": [
    "Now that all transactions involving Shop 78 and Shop 42 have been removed, lets look at some important descriptve statistics."
   ]
  },
  {
   "cell_type": "code",
   "execution_count": 31,
   "id": "4e1e49c5",
   "metadata": {},
   "outputs": [
    {
     "name": "stdout",
     "output_type": "stream",
     "text": [
      "Average Order Value (AOV): $300.16\n",
      "Median Order Value (MOV): $284.0\n",
      "Average price per pair of sneakers: $150.4\n",
      "Average number of items per order: 1.996\n"
     ]
    }
   ],
   "source": [
    "print(f\"Average Order Value (AOV): ${round(df['order_amount'].mean(),2)}\")\n",
    "print(f\"Median Order Value (MOV): ${round(df['order_amount'].median(),2)}\")\n",
    "print(f\"Average price per pair of sneakers: ${round(df['price_per_item'].mean(),2)}\")\n",
    "print(f\"Average number of items per order: {round(df['total_items'].mean(),3)}\")"
   ]
  },
  {
   "cell_type": "markdown",
   "id": "2c146f2d",
   "metadata": {},
   "source": [
    "### b. What metric would you report for this dataset?"
   ]
  },
  {
   "cell_type": "markdown",
   "id": "fe149b43",
   "metadata": {},
   "source": [
    "As previously mentioned, the mean is senstive to extreme values or outliers, and the mean is closer to the tail in a skewed distribution, which explains the initial significantly high calculated AOV. Consequently, the median is better suited for skewed distributions as it is much more robust."
   ]
  },
  {
   "cell_type": "markdown",
   "id": "588dcf37",
   "metadata": {},
   "source": [
    "Going back to the initial dataset (without dropping Shops 78 and 42), the **Median Order Value (MOV)** would be the better metric seeing that the initial dataset was heavily skewed"
   ]
  },
  {
   "cell_type": "code",
   "execution_count": 32,
   "id": "17ff2b87",
   "metadata": {},
   "outputs": [
    {
     "data": {
      "text/plain": [
       "count      5000.000000\n",
       "mean       3145.128000\n",
       "std       41282.539349\n",
       "min          90.000000\n",
       "25%         163.000000\n",
       "50%         284.000000\n",
       "75%         390.000000\n",
       "max      704000.000000\n",
       "Name: order_amount, dtype: float64"
      ]
     },
     "execution_count": 32,
     "metadata": {},
     "output_type": "execute_result"
    }
   ],
   "source": [
    "df_init['order_amount'].describe()"
   ]
  },
  {
   "cell_type": "markdown",
   "id": "6975e7bc",
   "metadata": {},
   "source": [
    "### c. What is its value?"
   ]
  },
  {
   "cell_type": "code",
   "execution_count": 33,
   "id": "8f10c051",
   "metadata": {},
   "outputs": [
    {
     "name": "stdout",
     "output_type": "stream",
     "text": [
      "Median Order Value (MOV) of initial dataset: $284.0\n"
     ]
    }
   ],
   "source": [
    "print(f\"Median Order Value (MOV) of initial dataset: ${df_init['order_amount'].median()}\")"
   ]
  },
  {
   "cell_type": "code",
   "execution_count": 34,
   "id": "45f624e9",
   "metadata": {},
   "outputs": [
    {
     "name": "stdout",
     "output_type": "stream",
     "text": [
      "Median Order Value (MOV) of processed dataset: $284.0\n"
     ]
    }
   ],
   "source": [
    "print(f\"Median Order Value (MOV) of processed dataset: ${df['order_amount'].median()}\")"
   ]
  },
  {
   "cell_type": "markdown",
   "id": "8fc8ba9f",
   "metadata": {},
   "source": [
    "Interestingly, the Median Order Value (MOV) of the initial dataset is the same as that of the dataset where Shops 78 and 42 were removed."
   ]
  },
  {
   "cell_type": "code",
   "execution_count": 35,
   "id": "d38f077b",
   "metadata": {},
   "outputs": [
    {
     "name": "stdout",
     "output_type": "stream",
     "text": [
      "Average Order Value (AOV) of initial dataset: $3145.13\n",
      "Average Order Value (AOV) of processed dataset: $300.16\n"
     ]
    }
   ],
   "source": [
    "print(f\"Average Order Value (AOV) of initial dataset: ${round(df_init['order_amount'].mean(),2)}\")\n",
    "print(f\"Average Order Value (AOV) of processed dataset: ${round(df['order_amount'].mean(),2)}\")"
   ]
  },
  {
   "cell_type": "markdown",
   "id": "2d9151e2",
   "metadata": {},
   "source": [
    "However, there is a significant difference in the AOV of the two datasets"
   ]
  },
  {
   "cell_type": "markdown",
   "id": "5134794f",
   "metadata": {},
   "source": [
    "### THE END "
   ]
  }
 ],
 "metadata": {
  "kernelspec": {
   "display_name": "Python 3 (ipykernel)",
   "language": "python",
   "name": "python3"
  },
  "language_info": {
   "codemirror_mode": {
    "name": "ipython",
    "version": 3
   },
   "file_extension": ".py",
   "mimetype": "text/x-python",
   "name": "python",
   "nbconvert_exporter": "python",
   "pygments_lexer": "ipython3",
   "version": "3.8.5"
  }
 },
 "nbformat": 4,
 "nbformat_minor": 5
}
